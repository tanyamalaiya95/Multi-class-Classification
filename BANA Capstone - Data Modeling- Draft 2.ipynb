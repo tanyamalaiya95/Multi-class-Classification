{
 "cells": [
  {
   "cell_type": "markdown",
   "metadata": {},
   "source": [
    "# BANA Capstone Project: Multinomial NLP Classification Model"
   ]
  },
  {
   "cell_type": "markdown",
   "metadata": {},
   "source": [
    "### Loading Libraries"
   ]
  },
  {
   "cell_type": "code",
   "execution_count": 1,
   "metadata": {},
   "outputs": [],
   "source": [
    "# Set-up\n",
    "import pandas as pd\n",
    "import numpy as np\n",
    "import re\n",
    "import string\n",
    "import matplotlib.pyplot as plt\n",
    "import warnings\n",
    "\n",
    "warnings.filterwarnings(\"ignore\")"
   ]
  },
  {
   "cell_type": "markdown",
   "metadata": {},
   "source": [
    "## First look at Data"
   ]
  },
  {
   "cell_type": "code",
   "execution_count": 2,
   "metadata": {},
   "outputs": [],
   "source": [
    "#Reading data\n",
    "Snap = pd.read_excel(r\"C:\\Users\\tanya\\Desktop\\Capstone\\2019-20 Snapshot.xlsx\", sheet_name = \"19-20 Snapshot\")\n",
    "key = pd.read_excel(r\"C:\\Users\\tanya\\Desktop\\Capstone\\2019-20 Snapshot.xlsx\", sheet_name = \"Job IDs\")\n",
    "\n",
    "#Trimming data\n",
    "Snap = Snap[['Job Titles','3-Digit Job Group Code']]\n",
    "Snap.columns = [\"title\",\"code\"]\n",
    "\n",
    "key = key[['Job Text','Job Group Code']]\n",
    "key.columns = [\"title\",\"code\"]"
   ]
  },
  {
   "cell_type": "code",
   "execution_count": 3,
   "metadata": {},
   "outputs": [
    {
     "data": {
      "text/html": [
       "<div>\n",
       "<style scoped>\n",
       "    .dataframe tbody tr th:only-of-type {\n",
       "        vertical-align: middle;\n",
       "    }\n",
       "\n",
       "    .dataframe tbody tr th {\n",
       "        vertical-align: top;\n",
       "    }\n",
       "\n",
       "    .dataframe thead th {\n",
       "        text-align: right;\n",
       "    }\n",
       "</style>\n",
       "<table border=\"1\" class=\"dataframe\">\n",
       "  <thead>\n",
       "    <tr style=\"text-align: right;\">\n",
       "      <th></th>\n",
       "      <th>title</th>\n",
       "      <th>code</th>\n",
       "    </tr>\n",
       "  </thead>\n",
       "  <tbody>\n",
       "    <tr>\n",
       "      <th>6765</th>\n",
       "      <td>Physician Assistant - COM</td>\n",
       "      <td>300</td>\n",
       "    </tr>\n",
       "    <tr>\n",
       "      <th>5621</th>\n",
       "      <td>Instructor - Adj</td>\n",
       "      <td>206</td>\n",
       "    </tr>\n",
       "    <tr>\n",
       "      <th>3480</th>\n",
       "      <td>Computer User Support Specialist I</td>\n",
       "      <td>300</td>\n",
       "    </tr>\n",
       "    <tr>\n",
       "      <th>4164</th>\n",
       "      <td>Equipment Operator 1-U</td>\n",
       "      <td>700</td>\n",
       "    </tr>\n",
       "    <tr>\n",
       "      <th>342</th>\n",
       "      <td>Assoc General Counsel</td>\n",
       "      <td>102</td>\n",
       "    </tr>\n",
       "    <tr>\n",
       "      <th>7842</th>\n",
       "      <td>Program Coordinator</td>\n",
       "      <td>300</td>\n",
       "    </tr>\n",
       "    <tr>\n",
       "      <th>8375</th>\n",
       "      <td>Researcher - Adj</td>\n",
       "      <td>206</td>\n",
       "    </tr>\n",
       "    <tr>\n",
       "      <th>5256</th>\n",
       "      <td>Instructor - Adj</td>\n",
       "      <td>206</td>\n",
       "    </tr>\n",
       "    <tr>\n",
       "      <th>3870</th>\n",
       "      <td>Dir Information Technology</td>\n",
       "      <td>102</td>\n",
       "    </tr>\n",
       "    <tr>\n",
       "      <th>8621</th>\n",
       "      <td>Sr Clinical Research Professional - COM</td>\n",
       "      <td>300</td>\n",
       "    </tr>\n",
       "  </tbody>\n",
       "</table>\n",
       "</div>"
      ],
      "text/plain": [
       "                                        title  code\n",
       "6765                Physician Assistant - COM   300\n",
       "5621                         Instructor - Adj   206\n",
       "3480       Computer User Support Specialist I   300\n",
       "4164                   Equipment Operator 1-U   700\n",
       "342                     Assoc General Counsel   102\n",
       "7842                      Program Coordinator   300\n",
       "8375                         Researcher - Adj   206\n",
       "5256                         Instructor - Adj   206\n",
       "3870               Dir Information Technology   102\n",
       "8621  Sr Clinical Research Professional - COM   300"
      ]
     },
     "execution_count": 3,
     "metadata": {},
     "output_type": "execute_result"
    }
   ],
   "source": [
    "#Viewing 10 random rows of training data\n",
    "Snap.sample(10)"
   ]
  },
  {
   "cell_type": "code",
   "execution_count": 4,
   "metadata": {},
   "outputs": [
    {
     "data": {
      "text/html": [
       "<div>\n",
       "<style scoped>\n",
       "    .dataframe tbody tr th:only-of-type {\n",
       "        vertical-align: middle;\n",
       "    }\n",
       "\n",
       "    .dataframe tbody tr th {\n",
       "        vertical-align: top;\n",
       "    }\n",
       "\n",
       "    .dataframe thead th {\n",
       "        text-align: right;\n",
       "    }\n",
       "</style>\n",
       "<table border=\"1\" class=\"dataframe\">\n",
       "  <thead>\n",
       "    <tr style=\"text-align: right;\">\n",
       "      <th></th>\n",
       "      <th>title</th>\n",
       "      <th>code</th>\n",
       "    </tr>\n",
       "  </thead>\n",
       "  <tbody>\n",
       "    <tr>\n",
       "      <th>737</th>\n",
       "      <td>Research Compliance Specialist</td>\n",
       "      <td>300</td>\n",
       "    </tr>\n",
       "    <tr>\n",
       "      <th>1078</th>\n",
       "      <td>Dir Marketing Publication &amp; Facil</td>\n",
       "      <td>102</td>\n",
       "    </tr>\n",
       "    <tr>\n",
       "      <th>302</th>\n",
       "      <td>Lieutenant</td>\n",
       "      <td>104</td>\n",
       "    </tr>\n",
       "    <tr>\n",
       "      <th>793</th>\n",
       "      <td>Sr Med Photographer</td>\n",
       "      <td>300</td>\n",
       "    </tr>\n",
       "    <tr>\n",
       "      <th>1056</th>\n",
       "      <td>Computer Lab Technician</td>\n",
       "      <td>500</td>\n",
       "    </tr>\n",
       "    <tr>\n",
       "      <th>962</th>\n",
       "      <td>Laborer-U</td>\n",
       "      <td>700</td>\n",
       "    </tr>\n",
       "    <tr>\n",
       "      <th>785</th>\n",
       "      <td>Sr Industrial Hygienist</td>\n",
       "      <td>300</td>\n",
       "    </tr>\n",
       "    <tr>\n",
       "      <th>476</th>\n",
       "      <td>Professor - Adj (FD)</td>\n",
       "      <td>206</td>\n",
       "    </tr>\n",
       "    <tr>\n",
       "      <th>620</th>\n",
       "      <td>Financial Administrator 1 (NE)</td>\n",
       "      <td>300</td>\n",
       "    </tr>\n",
       "    <tr>\n",
       "      <th>831</th>\n",
       "      <td>Univ Serv Assoc 1</td>\n",
       "      <td>300</td>\n",
       "    </tr>\n",
       "  </tbody>\n",
       "</table>\n",
       "</div>"
      ],
      "text/plain": [
       "                                  title  code\n",
       "737      Research Compliance Specialist   300\n",
       "1078  Dir Marketing Publication & Facil   102\n",
       "302                          Lieutenant   104\n",
       "793                 Sr Med Photographer   300\n",
       "1056            Computer Lab Technician   500\n",
       "962                           Laborer-U   700\n",
       "785             Sr Industrial Hygienist   300\n",
       "476                Professor - Adj (FD)   206\n",
       "620      Financial Administrator 1 (NE)   300\n",
       "831                   Univ Serv Assoc 1   300"
      ]
     },
     "execution_count": 4,
     "metadata": {},
     "output_type": "execute_result"
    }
   ],
   "source": [
    "#Viewing 10 random rows of test data\n",
    "key.sample(10)"
   ]
  },
  {
   "cell_type": "code",
   "execution_count": 5,
   "metadata": {
    "scrolled": true
   },
   "outputs": [
    {
     "name": "stdout",
     "output_type": "stream",
     "text": [
      "title      object\n",
      "code     category\n",
      "dtype: object\n",
      "title      object\n",
      "code     category\n",
      "dtype: object\n"
     ]
    }
   ],
   "source": [
    "#Converting code column to categorical datatype, and title to string datatype\n",
    "Snap.code = Snap.code.astype('category')\n",
    "Snap.title = Snap.title.astype('str')\n",
    "Snap = pd.DataFrame(Snap)\n",
    "print(Snap.dtypes)\n",
    "\n",
    "key.code = key.code.astype('category')\n",
    "key.title = key.title.astype('str')\n",
    "key = pd.DataFrame(key)\n",
    "print(key.dtypes)"
   ]
  },
  {
   "cell_type": "markdown",
   "metadata": {},
   "source": [
    "## Visual EDA"
   ]
  },
  {
   "cell_type": "code",
   "execution_count": 6,
   "metadata": {},
   "outputs": [
    {
     "data": {
      "image/png": "[encoded data removed]",
      "text/plain": [
       "<Figure size 1008x504 with 1 Axes>"
      ]
     },
     "metadata": {
      "needs_background": "light"
     },
     "output_type": "display_data"
    }
   ],
   "source": [
    "import seaborn as sns\n",
    "\n",
    "plt.figure(figsize=(14,7))\n",
    "\n",
    "plot = sns.countplot(Snap.code)\n",
    "for p in plot.patches:\n",
    "    height = p.get_height()\n",
    "    width = p.get_x()+ p.get_width()/2\n",
    "    plot.annotate(height, (width,height), xytext = (0, 4), textcoords = \"offset points\", ha = 'center', fontsize=10)\n",
    "\n",
    "plt.xlabel('Classes')\n",
    "plt.ylabel('Number of observations')\n",
    "plt.title('Distribution of the Target variable: Training Data', fontsize = 18);"
   ]
  },
  {
   "cell_type": "code",
   "execution_count": 7,
   "metadata": {},
   "outputs": [
    {
     "data": {
      "image/png": "[encoded data removed]",
      "text/plain": [
       "<Figure size 1008x504 with 1 Axes>"
      ]
     },
     "metadata": {
      "needs_background": "light"
     },
     "output_type": "display_data"
    }
   ],
   "source": [
    "plt.figure(figsize=(14,7))\n",
    "\n",
    "plot = sns.countplot(key.code)\n",
    "for p in plot.patches:\n",
    "    height = p.get_height()\n",
    "    width = p.get_x()+ p.get_width()/2\n",
    "    plot.annotate(height, (width,height), xytext = (0, 4), textcoords = \"offset points\", ha = 'center', fontsize=10)\n",
    "\n",
    "plt.xlabel('Classes')\n",
    "plt.ylabel('Number of observations')\n",
    "plt.title('Distribution of the Target variable: Test Data', fontsize = 18);"
   ]
  },
  {
   "cell_type": "markdown",
   "metadata": {},
   "source": [
    "## Data Pre-processing"
   ]
  },
  {
   "cell_type": "code",
   "execution_count": 8,
   "metadata": {},
   "outputs": [
    {
     "data": {
      "text/html": [
       "<div>\n",
       "<style scoped>\n",
       "    .dataframe tbody tr th:only-of-type {\n",
       "        vertical-align: middle;\n",
       "    }\n",
       "\n",
       "    .dataframe tbody tr th {\n",
       "        vertical-align: top;\n",
       "    }\n",
       "\n",
       "    .dataframe thead th {\n",
       "        text-align: right;\n",
       "    }\n",
       "</style>\n",
       "<table border=\"1\" class=\"dataframe\">\n",
       "  <thead>\n",
       "    <tr style=\"text-align: right;\">\n",
       "      <th></th>\n",
       "      <th>title</th>\n",
       "      <th>code</th>\n",
       "      <th>title_clean</th>\n",
       "    </tr>\n",
       "  </thead>\n",
       "  <tbody>\n",
       "    <tr>\n",
       "      <th>1658</th>\n",
       "      <td>Asst Professor - Adj</td>\n",
       "      <td>206</td>\n",
       "      <td>asst professor adj</td>\n",
       "    </tr>\n",
       "    <tr>\n",
       "      <th>8947</th>\n",
       "      <td>Univ Law Enf Off 3</td>\n",
       "      <td>300</td>\n",
       "      <td>univ law enf</td>\n",
       "    </tr>\n",
       "    <tr>\n",
       "      <th>1694</th>\n",
       "      <td>Asst Professor - Adj</td>\n",
       "      <td>206</td>\n",
       "      <td>asst professor adj</td>\n",
       "    </tr>\n",
       "    <tr>\n",
       "      <th>6051</th>\n",
       "      <td>Instructor - Clin Geo - Otolaryngology-Head an...</td>\n",
       "      <td>205</td>\n",
       "      <td>instructor clin geo otolaryngology head neck s...</td>\n",
       "    </tr>\n",
       "    <tr>\n",
       "      <th>8998</th>\n",
       "      <td>Post Doc Fellow</td>\n",
       "      <td>500</td>\n",
       "      <td>post doc fellow</td>\n",
       "    </tr>\n",
       "    <tr>\n",
       "      <th>6767</th>\n",
       "      <td>Physician Assistant - COM</td>\n",
       "      <td>300</td>\n",
       "      <td>physician assistant com</td>\n",
       "    </tr>\n",
       "    <tr>\n",
       "      <th>8823</th>\n",
       "      <td>Staff Attorney</td>\n",
       "      <td>300</td>\n",
       "      <td>staff attorney</td>\n",
       "    </tr>\n",
       "    <tr>\n",
       "      <th>3697</th>\n",
       "      <td>Database Administrator III - ERP</td>\n",
       "      <td>300</td>\n",
       "      <td>database administrator iii erp</td>\n",
       "    </tr>\n",
       "    <tr>\n",
       "      <th>5659</th>\n",
       "      <td>Instructor - Adj</td>\n",
       "      <td>206</td>\n",
       "      <td>instructor adj</td>\n",
       "    </tr>\n",
       "    <tr>\n",
       "      <th>1959</th>\n",
       "      <td>Asst Professor - Adj COM</td>\n",
       "      <td>206</td>\n",
       "      <td>asst professor adj com</td>\n",
       "    </tr>\n",
       "  </tbody>\n",
       "</table>\n",
       "</div>"
      ],
      "text/plain": [
       "                                                  title code  \\\n",
       "1658                               Asst Professor - Adj  206   \n",
       "8947                                 Univ Law Enf Off 3  300   \n",
       "1694                               Asst Professor - Adj  206   \n",
       "6051  Instructor - Clin Geo - Otolaryngology-Head an...  205   \n",
       "8998                                    Post Doc Fellow  500   \n",
       "6767                          Physician Assistant - COM  300   \n",
       "8823                                     Staff Attorney  300   \n",
       "3697                   Database Administrator III - ERP  300   \n",
       "5659                                   Instructor - Adj  206   \n",
       "1959                           Asst Professor - Adj COM  206   \n",
       "\n",
       "                                            title_clean  \n",
       "1658                                 asst professor adj  \n",
       "8947                                       univ law enf  \n",
       "1694                                 asst professor adj  \n",
       "6051  instructor clin geo otolaryngology head neck s...  \n",
       "8998                                    post doc fellow  \n",
       "6767                            physician assistant com  \n",
       "8823                                     staff attorney  \n",
       "3697                     database administrator iii erp  \n",
       "5659                                     instructor adj  \n",
       "1959                             asst professor adj com  "
      ]
     },
     "execution_count": 8,
     "metadata": {},
     "output_type": "execute_result"
    }
   ],
   "source": [
    "#Importing libraries\n",
    "import nltk\n",
    "from nltk.corpus import stopwords\n",
    "from spacy.lang.en import English\n",
    "\n",
    "#Function for data Pre-processing\n",
    "def clean_text(title):\n",
    "    tokens = [word for word in nltk.regexp_tokenize(title.lower(),'\\w+') \n",
    "                \n",
    "              if word not in stopwords.words('english') \n",
    "                    and word not in string.punctuation\n",
    "                    and word.isalpha()]\n",
    "    tokens = \" \".join([i for i in tokens])\n",
    "    return tokens\n",
    "\n",
    "#Applying pre-processing function to title column\n",
    "Snap['title_clean'] = Snap.title.apply(clean_text)\n",
    "key['title_clean'] = key.title.apply(clean_text)\n",
    "\n",
    "Snap.sample(10)"
   ]
  },
  {
   "cell_type": "markdown",
   "metadata": {},
   "source": [
    "## Assigning Train and Test Data"
   ]
  },
  {
   "cell_type": "code",
   "execution_count": 9,
   "metadata": {},
   "outputs": [],
   "source": [
    "#Assigning test and train data\n",
    "X_train = Snap.title_clean\n",
    "X_test = key.title_clean\n",
    "y_train = Snap.code\n",
    "y_test = key.code"
   ]
  },
  {
   "cell_type": "markdown",
   "metadata": {},
   "source": [
    "## Vectorization"
   ]
  },
  {
   "cell_type": "code",
   "execution_count": 10,
   "metadata": {},
   "outputs": [],
   "source": [
    "#Loading libraries\n",
    "from sklearn.feature_extraction.text import CountVectorizer, TfidfVectorizer\n",
    "\n",
    "#Vectorization 1 : Count vectorizer\n",
    "count_vectorizer = CountVectorizer()\n",
    "count_train = count_vectorizer.fit_transform(X_train)\n",
    "count_test = count_vectorizer.transform(X_test)\n",
    "\n",
    "#Vectorization 2 : Tfidf vectorizer\n",
    "tfidf_vectorizer = TfidfVectorizer()\n",
    "tfidf_train = tfidf_vectorizer.fit_transform(X_train)\n",
    "tfidf_test = tfidf_vectorizer.transform(X_test)"
   ]
  },
  {
   "cell_type": "markdown",
   "metadata": {},
   "source": [
    "# Data Modeling"
   ]
  },
  {
   "cell_type": "code",
   "execution_count": 11,
   "metadata": {},
   "outputs": [],
   "source": [
    "#Non-Paramteric Model\n",
    "from sklearn.neighbors import KNeighborsClassifier\n",
    "\n",
    "#Linear Models\n",
    "from sklearn.naive_bayes import MultinomialNB\n",
    "from sklearn.svm import SVC\n",
    "from sklearn.linear_model import SGDClassifier, LogisticRegression\n",
    "\n",
    "#Non-Linear Models\n",
    "from sklearn.tree import DecisionTreeClassifier\n",
    "from sklearn.ensemble import RandomForestClassifier, GradientBoostingClassifier\n",
    "\n",
    "#Model Assessment, Hyperparameter Tuning\n",
    "from sklearn import metrics\n",
    "from sklearn.model_selection import GridSearchCV"
   ]
  },
  {
   "cell_type": "markdown",
   "metadata": {},
   "source": [
    "### K-Nearest Neighbor Classifier"
   ]
  },
  {
   "cell_type": "code",
   "execution_count": 12,
   "metadata": {},
   "outputs": [
    {
     "data": {
      "image/png": "[encoded data removed]",
      "text/plain": [
       "<Figure size 720x504 with 1 Axes>"
      ]
     },
     "metadata": {
      "needs_background": "light"
     },
     "output_type": "display_data"
    }
   ],
   "source": [
    "neighbors = np.arange(1, 9)\n",
    "train_accuracy1 = np.empty(len(neighbors))\n",
    "test_accuracy1 = np.empty(len(neighbors))\n",
    "train_accuracy2 = np.empty(len(neighbors))\n",
    "test_accuracy2 = np.empty(len(neighbors))\n",
    "\n",
    "# Loop over different values of k\n",
    "for i, k in enumerate(neighbors):\n",
    "    # Setup 2 k-NN Classifiers with k neighbors each\n",
    "    knn1 = KNeighborsClassifier(n_neighbors = k)\n",
    "    knn2 = KNeighborsClassifier(n_neighbors = k)\n",
    "\n",
    "    # Fit the classifier to the training data\n",
    "    knn1.fit(count_train, y_train)\n",
    "    knn2.fit(tfidf_train, y_train)\n",
    "    \n",
    "    #Compute accuracy on the training set\n",
    "    train_accuracy1[i] = knn1.score(count_train, y_train)\n",
    "    train_accuracy2[i] = knn2.score(tfidf_train, y_train)\n",
    "\n",
    "    #Compute accuracy on the testing set\n",
    "    test_accuracy1[i] = knn1.score(count_test, y_test)\n",
    "    test_accuracy2[i] = knn2.score(tfidf_test, y_test)\n",
    "\n",
    "# Generate plot\n",
    "plt.figure(figsize=(10,7))\n",
    "plt.title('k-NN: Varying Number of Neighbors')\n",
    "plt.plot(neighbors, train_accuracy1, label = 'Training Accuracy: Count Vector')\n",
    "plt.plot(neighbors, train_accuracy2, label = 'Training Accuracy: TFIDF Vector')\n",
    "plt.plot(neighbors, test_accuracy1, label = 'Testing Accuracy: Count Vector')\n",
    "plt.plot(neighbors, test_accuracy2, label = 'Testing Accuracy: TFIDF Vector')\n",
    "plt.legend()\n",
    "plt.xlabel('Number of Neighbors')\n",
    "plt.ylabel('Accuracy')\n",
    "plt.show()"
   ]
  },
  {
   "cell_type": "markdown",
   "metadata": {},
   "source": [
    "### KNN: Count Vectorizer"
   ]
  },
  {
   "cell_type": "code",
   "execution_count": 13,
   "metadata": {},
   "outputs": [
    {
     "name": "stdout",
     "output_type": "stream",
     "text": [
      "Training Accuracy: 0.9997789811028843\n",
      "Testing Accuracy: 0.9168831168831169\n",
      "              precision    recall  f1-score   support\n",
      "\n",
      "         100       0.94      0.81      0.87        37\n",
      "         102       0.92      0.95      0.93       135\n",
      "         104       0.95      0.96      0.96       235\n",
      "         200       0.62      0.53      0.57        15\n",
      "         202       0.70      0.61      0.65        23\n",
      "         204       0.71      0.83      0.77        24\n",
      "         205       0.40      1.00      0.57         2\n",
      "         206       0.87      0.82      0.84       114\n",
      "         300       0.96      0.96      0.96       404\n",
      "         400       0.78      0.91      0.84        23\n",
      "         500       0.85      0.95      0.90        65\n",
      "         600       0.94      0.91      0.93        34\n",
      "         700       0.97      0.86      0.92        44\n",
      "\n",
      "    accuracy                           0.92      1155\n",
      "   macro avg       0.82      0.85      0.82      1155\n",
      "weighted avg       0.92      0.92      0.92      1155\n",
      "\n"
     ]
    }
   ],
   "source": [
    "#Data training : K_Nearest Neighbors\n",
    "knn_classifier = KNeighborsClassifier(n_neighbors = 1)\n",
    "knn_classifier.fit(count_train, y_train)\n",
    "\n",
    "#Predictions\n",
    "train_pred = knn_classifier.predict(count_train)\n",
    "test_pred = knn_classifier.predict(count_test)\n",
    "\n",
    "#Evaluation\n",
    "###In-sample accuracy score\n",
    "print(\"Training Accuracy: {}\".format(metrics.accuracy_score(y_train,train_pred)))\n",
    "###Out-sample accuracy score\n",
    "print(\"Testing Accuracy: {}\".format(metrics.accuracy_score(y_test,test_pred)))\n",
    "\n",
    "###Complete classification report\n",
    "print(metrics.classification_report(y_test,test_pred))"
   ]
  },
  {
   "cell_type": "markdown",
   "metadata": {},
   "source": [
    "### KNN: TF IDF Vectorizer"
   ]
  },
  {
   "cell_type": "code",
   "execution_count": 14,
   "metadata": {},
   "outputs": [
    {
     "name": "stdout",
     "output_type": "stream",
     "text": [
      "Training Accuracy: 0.9997789811028843\n",
      "Testing Accuracy: 0.9082251082251083\n",
      "              precision    recall  f1-score   support\n",
      "\n",
      "         100       0.94      0.84      0.89        37\n",
      "         102       0.93      0.94      0.94       135\n",
      "         104       0.94      0.95      0.94       235\n",
      "         200       0.71      0.33      0.45        15\n",
      "         202       0.79      0.48      0.59        23\n",
      "         204       0.90      0.38      0.53        24\n",
      "         205       0.12      0.50      0.20         2\n",
      "         206       0.76      0.84      0.80       114\n",
      "         300       0.94      0.97      0.95       404\n",
      "         400       0.79      1.00      0.88        23\n",
      "         500       0.94      0.95      0.95        65\n",
      "         600       0.94      0.94      0.94        34\n",
      "         700       1.00      0.89      0.94        44\n",
      "\n",
      "    accuracy                           0.91      1155\n",
      "   macro avg       0.82      0.77      0.77      1155\n",
      "weighted avg       0.91      0.91      0.91      1155\n",
      "\n"
     ]
    }
   ],
   "source": [
    "#Data training : K_Nearest Neighbors\n",
    "knn_classifier = KNeighborsClassifier(n_neighbors = 1)\n",
    "knn_classifier.fit(tfidf_train, y_train)\n",
    "\n",
    "#Predictions\n",
    "train_pred = knn_classifier.predict(tfidf_train)\n",
    "test_pred = knn_classifier.predict(tfidf_test)\n",
    "\n",
    "#Evaluation\n",
    "###In-sample accuracy score\n",
    "print(\"Training Accuracy: {}\".format(metrics.accuracy_score(y_train,train_pred)))\n",
    "###Out-sample accuracy score\n",
    "print(\"Testing Accuracy: {}\".format(metrics.accuracy_score(y_test,test_pred)))\n",
    "\n",
    "###Complete classification report\n",
    "print(metrics.classification_report(y_test,test_pred))"
   ]
  },
  {
   "cell_type": "markdown",
   "metadata": {},
   "source": [
    "### Multinomial Naive Bayes: Count Vector"
   ]
  },
  {
   "cell_type": "code",
   "execution_count": 15,
   "metadata": {},
   "outputs": [
    {
     "name": "stdout",
     "output_type": "stream",
     "text": [
      "Training Accuracy: 0.9254061222234501\n",
      "Testing Accuracy: 0.8103896103896104\n",
      "              precision    recall  f1-score   support\n",
      "\n",
      "         100       1.00      0.22      0.36        37\n",
      "         102       0.66      0.79      0.72       135\n",
      "         104       0.81      0.83      0.82       235\n",
      "         200       0.75      0.20      0.32        15\n",
      "         202       0.61      0.83      0.70        23\n",
      "         204       0.45      0.88      0.59        24\n",
      "         205       0.50      0.50      0.50         2\n",
      "         206       0.88      0.79      0.83       114\n",
      "         300       0.92      0.89      0.91       404\n",
      "         400       0.74      0.61      0.67        23\n",
      "         500       0.77      0.83      0.80        65\n",
      "         600       0.78      0.85      0.82        34\n",
      "         700       0.81      0.80      0.80        44\n",
      "\n",
      "    accuracy                           0.81      1155\n",
      "   macro avg       0.75      0.69      0.68      1155\n",
      "weighted avg       0.83      0.81      0.81      1155\n",
      "\n"
     ]
    }
   ],
   "source": [
    "#Data training : Multinomial Naive Bayes\n",
    "nb_classifier = MultinomialNB()\n",
    "nb_classifier.fit(count_train, y_train)\n",
    "\n",
    "#Predictions\n",
    "train_pred = nb_classifier.predict(count_train)\n",
    "test_pred = nb_classifier.predict(count_test)\n",
    "\n",
    "#Evaluation\n",
    "###In-sample accuracy score\n",
    "print(\"Training Accuracy: {}\".format(metrics.accuracy_score(y_train,train_pred)))\n",
    "###Out-sample accuracy score\n",
    "print(\"Testing Accuracy: {}\".format(metrics.accuracy_score(y_test,test_pred)))\n",
    "\n",
    "###Complete classification report\n",
    "print(metrics.classification_report(y_test,test_pred))"
   ]
  },
  {
   "cell_type": "markdown",
   "metadata": {},
   "source": [
    "### Multinomial Naive Bayes: TF-IDF Vector"
   ]
  },
  {
   "cell_type": "code",
   "execution_count": 16,
   "metadata": {},
   "outputs": [
    {
     "name": "stdout",
     "output_type": "stream",
     "text": [
      "Training Accuracy: 0.8979997789811028\n",
      "Testing Accuracy: 0.7887445887445887\n",
      "              precision    recall  f1-score   support\n",
      "\n",
      "         100       1.00      0.03      0.05        37\n",
      "         102       0.64      0.61      0.62       135\n",
      "         104       0.77      0.88      0.82       235\n",
      "         200       0.40      0.13      0.20        15\n",
      "         202       0.68      0.74      0.71        23\n",
      "         204       0.47      0.62      0.54        24\n",
      "         205       0.00      0.00      0.00         2\n",
      "         206       0.81      0.86      0.83       114\n",
      "         300       0.86      0.94      0.90       404\n",
      "         400       0.00      0.00      0.00        23\n",
      "         500       0.78      0.75      0.77        65\n",
      "         600       0.88      0.82      0.85        34\n",
      "         700       0.85      0.75      0.80        44\n",
      "\n",
      "    accuracy                           0.79      1155\n",
      "   macro avg       0.63      0.55      0.54      1155\n",
      "weighted avg       0.78      0.79      0.76      1155\n",
      "\n"
     ]
    }
   ],
   "source": [
    "#Data training\n",
    "nb_classifier = MultinomialNB()\n",
    "nb_classifier.fit(tfidf_train, y_train)\n",
    "\n",
    "#Predictions\n",
    "train_pred = nb_classifier.predict(tfidf_train)\n",
    "test_pred = nb_classifier.predict(tfidf_test)\n",
    "\n",
    "#Evaluation\n",
    "###In-sample accuracy score\n",
    "print(\"Training Accuracy: {}\".format(metrics.accuracy_score(y_train,train_pred)))\n",
    "###Out-sample accuracy score\n",
    "print(\"Testing Accuracy: {}\".format(metrics.accuracy_score(y_test,test_pred)))\n",
    "\n",
    "###Complete classification report\n",
    "print(metrics.classification_report(y_test,test_pred))"
   ]
  },
  {
   "cell_type": "markdown",
   "metadata": {},
   "source": [
    "### Multinomial Logistic Regression: Count Vector"
   ]
  },
  {
   "cell_type": "code",
   "execution_count": 17,
   "metadata": {},
   "outputs": [
    {
     "name": "stdout",
     "output_type": "stream",
     "text": [
      "Training Accuracy: 0.9856337716874792\n",
      "Testing Accuracy: 0.8597402597402597\n",
      "              precision    recall  f1-score   support\n",
      "\n",
      "         100       0.94      0.43      0.59        37\n",
      "         102       0.82      0.84      0.83       135\n",
      "         104       0.91      0.92      0.91       235\n",
      "         200       0.56      0.93      0.70        15\n",
      "         202       0.61      0.87      0.71        23\n",
      "         204       0.67      0.83      0.74        24\n",
      "         205       0.00      0.00      0.00         2\n",
      "         206       0.93      0.73      0.82       114\n",
      "         300       0.87      0.96      0.91       404\n",
      "         400       0.92      0.52      0.67        23\n",
      "         500       0.88      0.77      0.82        65\n",
      "         600       0.89      0.74      0.81        34\n",
      "         700       0.89      0.77      0.83        44\n",
      "\n",
      "    accuracy                           0.86      1155\n",
      "   macro avg       0.76      0.72      0.72      1155\n",
      "weighted avg       0.87      0.86      0.86      1155\n",
      "\n"
     ]
    }
   ],
   "source": [
    "#Data training : Multinomial Logistic Regression\n",
    "lr_classifier = LogisticRegression()\n",
    "lr_classifier.fit(count_train, y_train)\n",
    "\n",
    "#Predictions\n",
    "train_pred = lr_classifier.predict(count_train)\n",
    "test_pred = lr_classifier.predict(count_test)\n",
    "\n",
    "#Evaluation\n",
    "###In-sample accuracy score\n",
    "print(\"Training Accuracy: {}\".format(metrics.accuracy_score(y_train,train_pred)))\n",
    "###Out-sample accuracy score\n",
    "print(\"Testing Accuracy: {}\".format(metrics.accuracy_score(y_test,test_pred)))\n",
    "\n",
    "###Complete classification report\n",
    "print(metrics.classification_report(y_test,test_pred)) "
   ]
  },
  {
   "cell_type": "markdown",
   "metadata": {},
   "source": [
    "### Multinomial Logistic Regression: TF-IDF Vector"
   ]
  },
  {
   "cell_type": "code",
   "execution_count": 18,
   "metadata": {},
   "outputs": [
    {
     "name": "stdout",
     "output_type": "stream",
     "text": [
      "Training Accuracy: 0.9741407890374627\n",
      "Testing Accuracy: 0.8251082251082251\n",
      "              precision    recall  f1-score   support\n",
      "\n",
      "         100       0.91      0.27      0.42        37\n",
      "         102       0.81      0.73      0.77       135\n",
      "         104       0.87      0.90      0.88       235\n",
      "         200       0.61      0.93      0.74        15\n",
      "         202       0.56      0.87      0.68        23\n",
      "         204       0.66      0.88      0.75        24\n",
      "         205       0.00      0.00      0.00         2\n",
      "         206       0.93      0.75      0.83       114\n",
      "         300       0.81      0.96      0.88       404\n",
      "         400       0.91      0.43      0.59        23\n",
      "         500       0.88      0.66      0.75        65\n",
      "         600       0.88      0.68      0.77        34\n",
      "         700       0.93      0.61      0.74        44\n",
      "\n",
      "    accuracy                           0.83      1155\n",
      "   macro avg       0.75      0.67      0.68      1155\n",
      "weighted avg       0.84      0.83      0.82      1155\n",
      "\n"
     ]
    }
   ],
   "source": [
    "#Data training : Multinomial Logistic Regression\n",
    "lr_classifier = LogisticRegression()\n",
    "lr_classifier.fit(tfidf_train, y_train)\n",
    "\n",
    "#Predictions\n",
    "train_pred = lr_classifier.predict(tfidf_train)\n",
    "test_pred = lr_classifier.predict(tfidf_test)\n",
    "\n",
    "#Evaluation\n",
    "###In-sample accuracy score\n",
    "print(\"Training Accuracy: {}\".format(metrics.accuracy_score(y_train,train_pred)))\n",
    "###Out-sample accuracy score\n",
    "print(\"Testing Accuracy: {}\".format(metrics.accuracy_score(y_test,test_pred)))\n",
    "\n",
    "###Complete classification report\n",
    "print(metrics.classification_report(y_test,test_pred)) "
   ]
  },
  {
   "cell_type": "markdown",
   "metadata": {},
   "source": [
    "### SVM Classifier: Count Vector"
   ]
  },
  {
   "cell_type": "code",
   "execution_count": 19,
   "metadata": {},
   "outputs": [
    {
     "name": "stdout",
     "output_type": "stream",
     "text": [
      "Hyperparameters of the tuned model: {'alpha': 0.0001, 'loss': 'hinge', 'penalty': 'l2'}\n",
      "Training Accuracy: 0.8693778318046192\n",
      "Testing Accuracy: 0.9064935064935065\n",
      "              precision    recall  f1-score   support\n",
      "\n",
      "         100       1.00      0.65      0.79        37\n",
      "         102       0.86      0.92      0.89       135\n",
      "         104       0.94      0.92      0.93       235\n",
      "         200       0.61      0.93      0.74        15\n",
      "         202       0.69      0.87      0.77        23\n",
      "         204       0.69      0.83      0.75        24\n",
      "         205       0.00      0.00      0.00         2\n",
      "         206       0.94      0.76      0.84       114\n",
      "         300       0.94      0.97      0.95       404\n",
      "         400       0.80      0.87      0.83        23\n",
      "         500       0.93      0.95      0.94        65\n",
      "         600       0.94      0.91      0.93        34\n",
      "         700       0.97      0.84      0.90        44\n",
      "\n",
      "    accuracy                           0.91      1155\n",
      "   macro avg       0.79      0.80      0.79      1155\n",
      "weighted avg       0.91      0.91      0.91      1155\n",
      "\n"
     ]
    }
   ],
   "source": [
    "# Hyper-Parameter fine-tuning using Cross-Validation\n",
    "params = {\n",
    "    \"loss\" : [\"hinge\", \"log\", \"squared_hinge\", \"modified_huber\"],\n",
    "    \"alpha\" : [0.0001, 0.001, 0.01, 0.1],\n",
    "    \"penalty\" : [\"l2\", \"l1\", \"none\"],\n",
    "}\n",
    "\n",
    "# Declare the model\n",
    "svm_clf = SGDClassifier(max_iter=1000)\n",
    "\n",
    "# Cross-Validation\n",
    "svm_clf = GridSearchCV(svm_clf, param_grid=params)\n",
    "\n",
    "# Fit the model\n",
    "svm_clf.fit(count_train, y_train)\n",
    "\n",
    "# Predictions\n",
    "test_pred = svm_clf.predict(count_test)\n",
    "\n",
    "# Exploration\n",
    "### Hyperparameters of selected model\n",
    "print(\"Hyperparameters of the tuned model: {}\".format(svm_clf.best_params_))\n",
    "\n",
    "#Evaluation\n",
    "###In-sample accuracy score\n",
    "print(\"Training Accuracy: {}\".format(svm_clf.best_score_))\n",
    "###Out-sample accuracy score\n",
    "print(\"Testing Accuracy: {}\".format(svm_clf.score(count_test, y_test)))\n",
    "\n",
    "###Complete classification report\n",
    "print(metrics.classification_report(y_test,test_pred)) "
   ]
  },
  {
   "cell_type": "markdown",
   "metadata": {},
   "source": [
    "### SVM Classifier: TF-IDF Vector"
   ]
  },
  {
   "cell_type": "code",
   "execution_count": 20,
   "metadata": {},
   "outputs": [
    {
     "name": "stdout",
     "output_type": "stream",
     "text": [
      "Hyperparameters of the tuned model: {'alpha': 0.0001, 'loss': 'hinge', 'penalty': 'l1'}\n",
      "Training Accuracy: 0.8648469444137473\n",
      "Testing Accuracy: 0.8588744588744589\n",
      "              precision    recall  f1-score   support\n",
      "\n",
      "         100       0.84      0.57      0.68        37\n",
      "         102       0.79      0.85      0.82       135\n",
      "         104       0.90      0.86      0.88       235\n",
      "         200       0.61      0.93      0.74        15\n",
      "         202       0.57      0.87      0.69        23\n",
      "         204       0.60      0.88      0.71        24\n",
      "         205       0.00      0.00      0.00         2\n",
      "         206       0.94      0.77      0.85       114\n",
      "         300       0.91      0.95      0.93       404\n",
      "         400       0.81      0.57      0.67        23\n",
      "         500       0.81      0.78      0.80        65\n",
      "         600       0.90      0.82      0.86        34\n",
      "         700       0.85      0.77      0.81        44\n",
      "\n",
      "    accuracy                           0.86      1155\n",
      "   macro avg       0.73      0.74      0.73      1155\n",
      "weighted avg       0.87      0.86      0.86      1155\n",
      "\n"
     ]
    }
   ],
   "source": [
    "# Hyper-Parameter fine-tuning using Cross-Validation\n",
    "params = {\n",
    "    \"loss\" : [\"hinge\", \"log\", \"squared_hinge\", \"modified_huber\"],\n",
    "    \"alpha\" : [0.0001, 0.001, 0.01, 0.1],\n",
    "    \"penalty\" : [\"l2\", \"l1\", \"none\"],\n",
    "}\n",
    "\n",
    "# Declare the model\n",
    "svm_clf = SGDClassifier(max_iter=1000)\n",
    "\n",
    "# Cross-Validation\n",
    "svm_clf = GridSearchCV(svm_clf, param_grid=params)\n",
    "\n",
    "# Fit the model\n",
    "svm_clf.fit(tfidf_train, y_train)\n",
    "\n",
    "# Predictions\n",
    "test_pred = svm_clf.predict(tfidf_test)\n",
    "\n",
    "# Exploration\n",
    "### Hyperparameters of selected model\n",
    "print(\"Hyperparameters of the tuned model: {}\".format(svm_clf.best_params_))\n",
    "\n",
    "#Evaluation\n",
    "###In-sample accuracy score\n",
    "print(\"Training Accuracy: {}\".format(svm_clf.best_score_))\n",
    "###Out-sample accuracy score\n",
    "print(\"Testing Accuracy: {}\".format(svm_clf.score(tfidf_test, y_test)))\n",
    "\n",
    "###Complete classification report\n",
    "print(metrics.classification_report(y_test,test_pred)) "
   ]
  },
  {
   "cell_type": "markdown",
   "metadata": {},
   "source": [
    "### Decision Tree Classifier: Count Vector"
   ]
  },
  {
   "cell_type": "code",
   "execution_count": 43,
   "metadata": {},
   "outputs": [
    {
     "name": "stdout",
     "output_type": "stream",
     "text": [
      "Training Accuracy: 0.9997789811028843\n",
      "Testing Accuracy: 0.9333333333333333\n",
      "              precision    recall  f1-score   support\n",
      "\n",
      "         100       1.00      0.84      0.91        37\n",
      "         102       0.94      0.98      0.96       135\n",
      "         104       0.97      0.97      0.97       235\n",
      "         200       0.58      0.93      0.72        15\n",
      "         202       0.69      0.87      0.77        23\n",
      "         204       0.67      0.83      0.74        24\n",
      "         205       0.00      0.00      0.00         2\n",
      "         206       0.93      0.75      0.83       114\n",
      "         300       0.96      0.98      0.97       404\n",
      "         400       0.91      0.91      0.91        23\n",
      "         500       0.95      0.97      0.96        65\n",
      "         600       0.94      0.91      0.93        34\n",
      "         700       0.95      0.84      0.89        44\n",
      "\n",
      "    accuracy                           0.93      1155\n",
      "   macro avg       0.81      0.83      0.81      1155\n",
      "weighted avg       0.94      0.93      0.93      1155\n",
      "\n"
     ]
    }
   ],
   "source": [
    "#Data training : Decision Tree\n",
    "tree_classifier = DecisionTreeClassifier()\n",
    "tree_classifier.fit(count_train, y_train)\n",
    "\n",
    "#Predictions\n",
    "train_pred = tree_classifier.predict(count_train)\n",
    "test_pred = tree_classifier.predict(count_test)\n",
    "\n",
    "#Evaluation\n",
    "###In-sample accuracy score\n",
    "print(\"Training Accuracy: {}\".format(metrics.accuracy_score(y_train,train_pred)))\n",
    "###Out-sample accuracy score\n",
    "print(\"Testing Accuracy: {}\".format(metrics.accuracy_score(y_test,test_pred)))\n",
    "\n",
    "###Complete classification report\n",
    "print(metrics.classification_report(y_test,test_pred)) "
   ]
  },
  {
   "cell_type": "markdown",
   "metadata": {},
   "source": [
    "### Decision Tree Classifier: TF-IDF Vector"
   ]
  },
  {
   "cell_type": "code",
   "execution_count": 22,
   "metadata": {},
   "outputs": [
    {
     "name": "stdout",
     "output_type": "stream",
     "text": [
      "Training Accuracy: 0.9997789811028843\n",
      "Testing Accuracy: 0.922943722943723\n",
      "              precision    recall  f1-score   support\n",
      "\n",
      "         100       1.00      0.86      0.93        37\n",
      "         102       0.93      0.97      0.95       135\n",
      "         104       0.95      0.96      0.96       235\n",
      "         200       0.56      0.93      0.70        15\n",
      "         202       0.68      0.74      0.71        23\n",
      "         204       0.67      0.83      0.74        24\n",
      "         205       0.25      0.50      0.33         2\n",
      "         206       0.94      0.71      0.81       114\n",
      "         300       0.95      0.97      0.96       404\n",
      "         400       0.81      0.96      0.88        23\n",
      "         500       0.95      0.95      0.95        65\n",
      "         600       0.94      0.91      0.93        34\n",
      "         700       0.95      0.84      0.89        44\n",
      "\n",
      "    accuracy                           0.92      1155\n",
      "   macro avg       0.81      0.86      0.83      1155\n",
      "weighted avg       0.93      0.92      0.92      1155\n",
      "\n"
     ]
    }
   ],
   "source": [
    "#Data training : Decision Tree\n",
    "tree_classifier = DecisionTreeClassifier()\n",
    "tree_classifier.fit(tfidf_train, y_train)\n",
    "\n",
    "#Predictions\n",
    "train_pred = tree_classifier.predict(tfidf_train)\n",
    "test_pred = tree_classifier.predict(tfidf_test)\n",
    "\n",
    "#Evaluation\n",
    "###In-sample accuracy score\n",
    "print(\"Training Accuracy: {}\".format(metrics.accuracy_score(y_train,train_pred)))\n",
    "###Out-sample accuracy score\n",
    "print(\"Testing Accuracy: {}\".format(metrics.accuracy_score(y_test,test_pred)))\n",
    "\n",
    "###Complete classification report\n",
    "print(metrics.classification_report(y_test,test_pred)) "
   ]
  },
  {
   "cell_type": "markdown",
   "metadata": {},
   "source": [
    "### Random Forest Classifier: Count Vector"
   ]
  },
  {
   "cell_type": "code",
   "execution_count": 23,
   "metadata": {},
   "outputs": [
    {
     "name": "stdout",
     "output_type": "stream",
     "text": [
      "Training Accuracy: 0.9986738866173058\n",
      "Testing Accuracy: 0.9212121212121213\n",
      "              precision    recall  f1-score   support\n",
      "\n",
      "         100       1.00      0.89      0.94        37\n",
      "         102       0.90      0.97      0.93       135\n",
      "         104       0.96      0.94      0.95       235\n",
      "         200       0.60      0.80      0.69        15\n",
      "         202       0.70      0.83      0.76        23\n",
      "         204       0.65      0.83      0.73        24\n",
      "         205       0.67      1.00      0.80         2\n",
      "         206       0.95      0.75      0.84       114\n",
      "         300       0.94      0.98      0.96       404\n",
      "         400       0.91      0.87      0.89        23\n",
      "         500       0.95      0.94      0.95        65\n",
      "         600       0.94      0.85      0.89        34\n",
      "         700       0.95      0.82      0.88        44\n",
      "\n",
      "    accuracy                           0.92      1155\n",
      "   macro avg       0.85      0.88      0.86      1155\n",
      "weighted avg       0.93      0.92      0.92      1155\n",
      "\n"
     ]
    }
   ],
   "source": [
    "#Data training : Random Forest\n",
    "rf_classifier = RandomForestClassifier()\n",
    "rf_classifier.fit(count_train, y_train)\n",
    "\n",
    "#Predictions\n",
    "train_pred = rf_classifier.predict(count_train)\n",
    "test_pred = rf_classifier.predict(count_test)\n",
    "\n",
    "#Evaluation\n",
    "###In-sample accuracy score\n",
    "print(\"Training Accuracy: {}\".format(metrics.accuracy_score(y_train,train_pred)))\n",
    "###Out-sample accuracy score\n",
    "print(\"Testing Accuracy: {}\".format(metrics.accuracy_score(y_test,test_pred)))\n",
    "\n",
    "###Complete classification report\n",
    "print(metrics.classification_report(y_test,test_pred)) "
   ]
  },
  {
   "cell_type": "markdown",
   "metadata": {},
   "source": [
    "### Random Forest Classifier: TF-IDF Vector"
   ]
  },
  {
   "cell_type": "code",
   "execution_count": 24,
   "metadata": {},
   "outputs": [
    {
     "name": "stdout",
     "output_type": "stream",
     "text": [
      "Training Accuracy: 0.9986738866173058\n",
      "Testing Accuracy: 0.9160173160173161\n",
      "              precision    recall  f1-score   support\n",
      "\n",
      "         100       0.94      0.84      0.89        37\n",
      "         102       0.91      0.98      0.94       135\n",
      "         104       0.96      0.93      0.94       235\n",
      "         200       0.61      0.93      0.74        15\n",
      "         202       0.65      0.65      0.65        23\n",
      "         204       0.69      0.75      0.72        24\n",
      "         205       0.25      0.50      0.33         2\n",
      "         206       0.91      0.75      0.82       114\n",
      "         300       0.94      0.98      0.96       404\n",
      "         400       0.95      0.91      0.93        23\n",
      "         500       0.94      0.94      0.94        65\n",
      "         600       0.94      0.85      0.89        34\n",
      "         700       0.95      0.82      0.88        44\n",
      "\n",
      "    accuracy                           0.92      1155\n",
      "   macro avg       0.82      0.83      0.82      1155\n",
      "weighted avg       0.92      0.92      0.92      1155\n",
      "\n"
     ]
    }
   ],
   "source": [
    "#Data training : Random Forest\n",
    "rf_classifier = RandomForestClassifier()\n",
    "rf_classifier.fit(tfidf_train, y_train)\n",
    "\n",
    "#Predictions\n",
    "train_pred = rf_classifier.predict(tfidf_train)\n",
    "test_pred = rf_classifier.predict(tfidf_test)\n",
    "\n",
    "#Evaluation\n",
    "###In-sample accuracy score\n",
    "print(\"Training Accuracy: {}\".format(metrics.accuracy_score(y_train,train_pred)))\n",
    "###Out-sample accuracy score\n",
    "print(\"Testing Accuracy: {}\".format(metrics.accuracy_score(y_test,test_pred)))\n",
    "\n",
    "###Complete classification report\n",
    "print(metrics.classification_report(y_test,test_pred)) "
   ]
  },
  {
   "cell_type": "markdown",
   "metadata": {},
   "source": [
    "### Gradient Boosting Classifier: Count Vector"
   ]
  },
  {
   "cell_type": "code",
   "execution_count": 25,
   "metadata": {},
   "outputs": [
    {
     "name": "stdout",
     "output_type": "stream",
     "text": [
      "Training Accuracy: 0.9950270748148967\n",
      "Testing Accuracy: 0.9021645021645022\n",
      "              precision    recall  f1-score   support\n",
      "\n",
      "         100       0.97      0.78      0.87        37\n",
      "         102       0.84      0.93      0.88       135\n",
      "         104       0.95      0.88      0.91       235\n",
      "         200       0.61      0.93      0.74        15\n",
      "         202       0.71      0.87      0.78        23\n",
      "         204       0.68      0.88      0.76        24\n",
      "         205       0.00      0.00      0.00         2\n",
      "         206       0.93      0.75      0.83       114\n",
      "         300       0.93      0.97      0.95       404\n",
      "         400       0.85      0.96      0.90        23\n",
      "         500       0.91      0.92      0.92        65\n",
      "         600       0.91      0.91      0.91        34\n",
      "         700       0.95      0.82      0.88        44\n",
      "\n",
      "    accuracy                           0.90      1155\n",
      "   macro avg       0.79      0.81      0.79      1155\n",
      "weighted avg       0.91      0.90      0.90      1155\n",
      "\n"
     ]
    }
   ],
   "source": [
    "#Data training : Gradient Boosting\n",
    "gb_classifier = GradientBoostingClassifier()\n",
    "gb_classifier.fit(count_train, y_train)\n",
    "\n",
    "#Predictions\n",
    "train_pred = gb_classifier.predict(count_train)\n",
    "test_pred = gb_classifier.predict(count_test)\n",
    "\n",
    "#Evaluation\n",
    "###In-sample accuracy score\n",
    "print(\"Training Accuracy: {}\".format(metrics.accuracy_score(y_train,train_pred)))\n",
    "###Out-sample accuracy score\n",
    "print(\"Testing Accuracy: {}\".format(metrics.accuracy_score(y_test,test_pred)))\n",
    "\n",
    "###Complete classification report\n",
    "print(metrics.classification_report(y_test,test_pred)) "
   ]
  },
  {
   "cell_type": "markdown",
   "metadata": {},
   "source": [
    "### Gradient Boosting Classifier: TF-IDF Vector"
   ]
  },
  {
   "cell_type": "code",
   "execution_count": 26,
   "metadata": {},
   "outputs": [
    {
     "name": "stdout",
     "output_type": "stream",
     "text": [
      "Training Accuracy: 0.9991159244115372\n",
      "Testing Accuracy: 0.9142857142857143\n",
      "              precision    recall  f1-score   support\n",
      "\n",
      "         100       0.94      0.86      0.90        37\n",
      "         102       0.93      0.96      0.95       135\n",
      "         104       0.96      0.92      0.94       235\n",
      "         200       0.62      0.87      0.72        15\n",
      "         202       0.73      0.83      0.78        23\n",
      "         204       0.68      0.79      0.73        24\n",
      "         205       0.11      0.50      0.18         2\n",
      "         206       0.94      0.71      0.81       114\n",
      "         300       0.93      0.98      0.95       404\n",
      "         400       0.85      1.00      0.92        23\n",
      "         500       0.95      0.92      0.94        65\n",
      "         600       0.91      0.91      0.91        34\n",
      "         700       0.95      0.82      0.88        44\n",
      "\n",
      "    accuracy                           0.91      1155\n",
      "   macro avg       0.81      0.85      0.82      1155\n",
      "weighted avg       0.92      0.91      0.92      1155\n",
      "\n"
     ]
    }
   ],
   "source": [
    "#Data training : Gradient Boosting\n",
    "gb_classifier = GradientBoostingClassifier()\n",
    "gb_classifier.fit(tfidf_train, y_train)\n",
    "\n",
    "#Predictions\n",
    "train_pred = gb_classifier.predict(tfidf_train)\n",
    "test_pred = gb_classifier.predict(tfidf_test)\n",
    "\n",
    "#Evaluation\n",
    "###In-sample accuracy score\n",
    "print(\"Training Accuracy: {}\".format(metrics.accuracy_score(y_train,train_pred)))\n",
    "###Out-sample accuracy score\n",
    "print(\"Testing Accuracy: {}\".format(metrics.accuracy_score(y_test,test_pred)))\n",
    "\n",
    "###Complete classification report\n",
    "print(metrics.classification_report(y_test,test_pred)) "
   ]
  }
 ],
 "metadata": {
  "kernelspec": {
   "display_name": "Python 3",
   "language": "python",
   "name": "python3"
  },
  "language_info": {
   "codemirror_mode": {
    "name": "ipython",
    "version": 3
   },
   "file_extension": ".py",
   "mimetype": "text/x-python",
   "name": "python",
   "nbconvert_exporter": "python",
   "pygments_lexer": "ipython3",
   "version": "3.7.3"
  }
 },
 "nbformat": 4,
 "nbformat_minor": 2
}
